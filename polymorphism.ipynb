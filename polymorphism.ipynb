{
  "nbformat": 4,
  "nbformat_minor": 0,
  "metadata": {
    "colab": {
      "provenance": [],
      "authorship_tag": "ABX9TyMWg1cKdMUuEHqliOFkBYsG",
      "include_colab_link": true
    },
    "kernelspec": {
      "name": "python3",
      "display_name": "Python 3"
    },
    "language_info": {
      "name": "python"
    }
  },
  "cells": [
    {
      "cell_type": "markdown",
      "metadata": {
        "id": "view-in-github",
        "colab_type": "text"
      },
      "source": [
        "<a href=\"https://colab.research.google.com/github/asepmuhidin/OOP_C7/blob/main/polymorphism.ipynb\" target=\"_parent\"><img src=\"https://colab.research.google.com/assets/colab-badge.svg\" alt=\"Open In Colab\"/></a>"
      ]
    },
    {
      "cell_type": "code",
      "execution_count": 1,
      "metadata": {
        "id": "gR6ScI1vpmCg"
      },
      "outputs": [],
      "source": [
        "#Method Overried\n",
        "class Hewan:\n",
        "  def __init__(self,nama):\n",
        "    self.nama=nama\n",
        "\n",
        "  def suara(self):\n",
        "    return \"hewan bersuara\""
      ]
    },
    {
      "cell_type": "code",
      "source": [
        "class Anjing(Hewan):\n",
        "  def suara(self):\n",
        "    return \"Guk..guk\"\n",
        "\n",
        "class Kucing(Hewan):\n",
        "  def suara(self):\n",
        "    return \"Meoongg..\"\n",
        "\n",
        "class Sapi(Hewan):\n",
        "  def suara(self):\n",
        "    return \"Moohhhh\""
      ],
      "metadata": {
        "id": "YPfku7dlp5q0"
      },
      "execution_count": 2,
      "outputs": []
    },
    {
      "cell_type": "code",
      "source": [
        "anjing1=Anjing(\"Buddy\")\n",
        "kucing1=Kucing(\"Whiskers\")\n",
        "sapi1=Sapi(\"Bessie\")\n",
        "\n",
        "print(f\"Suara {anjing1.nama} adalah {anjing1.suara()}\")\n",
        "print(f\"Suara {kucing1.nama} adalah {kucing1.suara()}\")\n",
        "print(f\"Suara {sapi1.nama} adalah {sapi1.suara()}\")\n"
      ],
      "metadata": {
        "colab": {
          "base_uri": "https://localhost:8080/"
        },
        "id": "74fFfl64q8SJ",
        "outputId": "9fe56c53-b0d1-47e7-ba21-271a5cd0d8d4"
      },
      "execution_count": 6,
      "outputs": [
        {
          "output_type": "stream",
          "name": "stdout",
          "text": [
            "Suara Buddy adalah Guk..guk\n",
            "Suara Whiskers adalah Meoongg..\n",
            "Suara Bessie adalah Moohhhh\n"
          ]
        }
      ]
    },
    {
      "cell_type": "code",
      "source": [
        "animals=[\n",
        "    Anjing(\"Buddy\"),\n",
        "    Kucing(\"Whiskers\"),\n",
        "    Sapi(\"Bessie\")\n",
        "]\n",
        "for animal in animals:\n",
        "  print(f\"Suara {animal.nama} adalah {animal.suara()}\")"
      ],
      "metadata": {
        "colab": {
          "base_uri": "https://localhost:8080/"
        },
        "id": "UX_dGwy7qiXG",
        "outputId": "b849171e-3a4c-4679-df8a-dd3e070af2b4"
      },
      "execution_count": 4,
      "outputs": [
        {
          "output_type": "stream",
          "name": "stdout",
          "text": [
            "Suara Buddy adalah Guk..guk\n",
            "Suara Whiskers adalah Meoongg..\n",
            "Suara Bessie adalah Moohhhh\n"
          ]
        }
      ]
    },
    {
      "cell_type": "code",
      "source": [
        "#Duck typing\n",
        "class Mobil:\n",
        "  def start(self):\n",
        "    return \"mesin mobil menyala\"\n",
        "\n",
        "class Motor:\n",
        "  def start(self):\n",
        "    return \"mesin motor menyala\"\n",
        "\n",
        "class Perahu:\n",
        "  def start(self):\n",
        "    return \"mesin perahu menyala\""
      ],
      "metadata": {
        "id": "dQaaRwvMvv2g"
      },
      "execution_count": 9,
      "outputs": []
    },
    {
      "cell_type": "code",
      "source": [
        "def operasikan_kendaraan(kendaraan):\n",
        "  print(kendaraan.start())\n",
        "\n",
        "daftar_kendaraan=[Mobil(),Motor(),Perahu()]\n",
        "for kendaraan in daftar_kendaraan:\n",
        "  operasikan_kendaraan(kendaraan)"
      ],
      "metadata": {
        "colab": {
          "base_uri": "https://localhost:8080/"
        },
        "id": "k6wWuJ2ZwRuQ",
        "outputId": "bf836741-5d84-43f2-e7ef-922443e4ddf4"
      },
      "execution_count": 10,
      "outputs": [
        {
          "output_type": "stream",
          "name": "stdout",
          "text": [
            "mesin mobil menyala\n",
            "mesin motor menyala\n",
            "mesin perahu menyala\n"
          ]
        }
      ]
    },
    {
      "cell_type": "code",
      "source": [
        "#Operator Overloading\n",
        "class Apple:\n",
        "  def __init__(self,jumlah):\n",
        "    self.jumlah=jumlah\n",
        "\n",
        "  def __add__(self,other):\n",
        "    return Apple(self.jumlah+other.jumlah)\n",
        "\n",
        "  def __str__(self):\n",
        "    return f\"Jumlah Apple : {self.jumlah}\"\n",
        "\n",
        "apple1=Apple(12)\n",
        "apple2=Apple(3)\n",
        "apple3=apple1+apple2\n",
        "print(apple3)"
      ],
      "metadata": {
        "colab": {
          "base_uri": "https://localhost:8080/"
        },
        "id": "DQ09hp8hyEHp",
        "outputId": "b179845d-c806-4478-db13-35b2e07d850e"
      },
      "execution_count": 12,
      "outputs": [
        {
          "output_type": "stream",
          "name": "stdout",
          "text": [
            "Jumlah Apple : 15\n"
          ]
        }
      ]
    },
    {
      "cell_type": "code",
      "source": [
        "#Abstract class\n",
        "from abc import ABC, abstractmethod\n",
        "\n",
        "class Shape(ABC):\n",
        "\n",
        "  @abstractmethod\n",
        "  def area(self):\n",
        "    pass"
      ],
      "metadata": {
        "id": "PuW7vBpA0GCe"
      },
      "execution_count": 14,
      "outputs": []
    },
    {
      "cell_type": "code",
      "source": [
        "import math\n",
        "class Rectangle(Shape):\n",
        "  def __init__(self,length,width):\n",
        "    self.length=length\n",
        "    self.width=width\n",
        "\n",
        "  def area(self):\n",
        "    return self.width*self.length\n",
        "\n",
        "class Circle(Shape):\n",
        "  def __init__(self,radius):\n",
        "    self.radius=radius\n",
        "\n",
        "  def area(self):\n",
        "    return math.pi*self.radius**2"
      ],
      "metadata": {
        "id": "PT0aQvw50fBa"
      },
      "execution_count": 17,
      "outputs": []
    },
    {
      "cell_type": "code",
      "source": [
        "shapes=[Rectangle(12,5),Circle(10)]\n",
        "for shape in shapes:\n",
        "  print(f\"Luas adalah {shape.area()}\")"
      ],
      "metadata": {
        "colab": {
          "base_uri": "https://localhost:8080/"
        },
        "id": "8yvGY8UO06T5",
        "outputId": "315533c9-b067-4f7c-c2a9-9629b2dfc579"
      },
      "execution_count": 20,
      "outputs": [
        {
          "output_type": "stream",
          "name": "stdout",
          "text": [
            "Luas adalah 60\n",
            "Luas adalah 314.1592653589793\n"
          ]
        }
      ]
    }
  ]
}