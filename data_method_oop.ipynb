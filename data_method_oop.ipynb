{
  "nbformat": 4,
  "nbformat_minor": 0,
  "metadata": {
    "colab": {
      "provenance": [],
      "authorship_tag": "ABX9TyN0aXxPad4zo7vV4aX3F6Nx",
      "include_colab_link": true
    },
    "kernelspec": {
      "name": "python3",
      "display_name": "Python 3"
    },
    "language_info": {
      "name": "python"
    }
  },
  "cells": [
    {
      "cell_type": "markdown",
      "metadata": {
        "id": "view-in-github",
        "colab_type": "text"
      },
      "source": [
        "<a href=\"https://colab.research.google.com/github/asepmuhidin/OOP_C7/blob/main/data_method_oop.ipynb\" target=\"_parent\"><img src=\"https://colab.research.google.com/assets/colab-badge.svg\" alt=\"Open In Colab\"/></a>"
      ]
    },
    {
      "cell_type": "code",
      "execution_count": 34,
      "metadata": {
        "id": "8UDziOjEh8Cj"
      },
      "outputs": [],
      "source": [
        "class Mobil:\n",
        "  punya_roda=\"ya\"\n",
        "  batas_kecepatan=350\n",
        "\n",
        "  def __init__(self,merek,warna):\n",
        "    self.merek=merek\n",
        "    self.warna=warna\n",
        "    print(\"Method constructor dijalankan\")\n",
        "\n",
        "  def berjalan(self,kecepatan):\n",
        "    print(f\"Mobil merek {self.merek} sedang berjalan dengan kecepatan {kecepatan}\")\n",
        "    self.warning_kecepatan(kecepatan) # Call the class method and pass the speed\n",
        "\n",
        "  @classmethod\n",
        "  def warning_kecepatan(cls, kecepatan): # Add cls and kecepatan as parameters\n",
        "    if kecepatan > cls.batas_kecepatan:\n",
        "      print(f\"Warning: Kecepatan {kecepatan} melebihi batas kecepatan {cls.batas_kecepatan}\")\n",
        "    else:\n",
        "      print(f\"Kecepatan {kecepatan} dalam batas aman.\")\n",
        "\n",
        "\n",
        "  @staticmethod\n",
        "  def copyright():\n",
        "    print(\"Kelas Mobil create by Ardiyan\")\n"
      ]
    },
    {
      "cell_type": "code",
      "source": [
        "mobil1=Mobil(\"Honda\",\"Putih\")\n",
        "mobil2=Mobil(\"Toyota\",\"Biru\")"
      ],
      "metadata": {
        "colab": {
          "base_uri": "https://localhost:8080/"
        },
        "id": "LF_5CeIbiLmH",
        "outputId": "56fd5c54-dac5-49c7-ea26-97ba7cd588a1"
      },
      "execution_count": 35,
      "outputs": [
        {
          "output_type": "stream",
          "name": "stdout",
          "text": [
            "Method constructor dijalankan\n",
            "Method constructor dijalankan\n"
          ]
        }
      ]
    },
    {
      "cell_type": "code",
      "source": [
        "mobil2.merek"
      ],
      "metadata": {
        "colab": {
          "base_uri": "https://localhost:8080/",
          "height": 36
        },
        "id": "9Nk7bXpBkJKH",
        "outputId": "e46a320a-fd53-4b86-931d-ec9dda6ea77e"
      },
      "execution_count": 6,
      "outputs": [
        {
          "output_type": "execute_result",
          "data": {
            "text/plain": [
              "'Toyota'"
            ],
            "application/vnd.google.colaboratory.intrinsic+json": {
              "type": "string"
            }
          },
          "metadata": {},
          "execution_count": 6
        }
      ]
    },
    {
      "cell_type": "code",
      "source": [
        "print(f\"Mobil1 merek {mobil1.merek}, Beroda?{mobil1.punya_roda}\")\n",
        "print(f\"Mobil2 merek {mobil2.merek}, Beroda?{mobil2.punya_roda}\")"
      ],
      "metadata": {
        "colab": {
          "base_uri": "https://localhost:8080/"
        },
        "id": "BshnsJsDkNKj",
        "outputId": "ff97aa09-f481-4b13-98e0-65aae5b54459"
      },
      "execution_count": 10,
      "outputs": [
        {
          "output_type": "stream",
          "name": "stdout",
          "text": [
            "Mobil1 merek Honda, Beroda?ya\n",
            "Mobil2 merek Toyota, Beroda?ya\n"
          ]
        }
      ]
    },
    {
      "cell_type": "code",
      "source": [
        "mobil1.berjalan(370)"
      ],
      "metadata": {
        "colab": {
          "base_uri": "https://localhost:8080/"
        },
        "id": "3DnAA1tDkCyA",
        "outputId": "640ee60f-7aac-4431-89ba-d9fab5ab186e"
      },
      "execution_count": 36,
      "outputs": [
        {
          "output_type": "stream",
          "name": "stdout",
          "text": [
            "Mobil merek Honda sedang berjalan dengan kecepatan 370\n",
            "Warning: Kecepatan 370 melebihi batas kecepatan 350\n"
          ]
        }
      ]
    },
    {
      "cell_type": "code",
      "source": [
        "mobil2.berjalan(150)"
      ],
      "metadata": {
        "colab": {
          "base_uri": "https://localhost:8080/"
        },
        "id": "lPFt_R1Bpl4e",
        "outputId": "d538cca3-c737-4bd9-f898-eca3dcda9af2"
      },
      "execution_count": 37,
      "outputs": [
        {
          "output_type": "stream",
          "name": "stdout",
          "text": [
            "Mobil merek Toyota sedang berjalan dengan kecepatan 150\n",
            "Kecepatan 150 dalam batas aman.\n"
          ]
        }
      ]
    },
    {
      "cell_type": "markdown",
      "source": [],
      "metadata": {
        "id": "J-le3q71oDV7"
      }
    },
    {
      "cell_type": "code",
      "source": [
        "mobil1.copyright()"
      ],
      "metadata": {
        "colab": {
          "base_uri": "https://localhost:8080/"
        },
        "id": "RM-TnjcgqiZS",
        "outputId": "5a53d20d-ffe4-450c-97a7-4f3f9a9134ed"
      },
      "execution_count": 38,
      "outputs": [
        {
          "output_type": "stream",
          "name": "stdout",
          "text": [
            "Kelas Mobil create by Ardiyan\n"
          ]
        }
      ]
    }
  ]
}