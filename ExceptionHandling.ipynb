{
  "nbformat": 4,
  "nbformat_minor": 0,
  "metadata": {
    "colab": {
      "provenance": [],
      "authorship_tag": "ABX9TyMtH804q14/UkbRKNkKoiPK",
      "include_colab_link": true
    },
    "kernelspec": {
      "name": "python3",
      "display_name": "Python 3"
    },
    "language_info": {
      "name": "python"
    }
  },
  "cells": [
    {
      "cell_type": "markdown",
      "metadata": {
        "id": "view-in-github",
        "colab_type": "text"
      },
      "source": [
        "<a href=\"https://colab.research.google.com/github/asepmuhidin/OOP_C7/blob/main/ExceptionHandling.ipynb\" target=\"_parent\"><img src=\"https://colab.research.google.com/assets/colab-badge.svg\" alt=\"Open In Colab\"/></a>"
      ]
    },
    {
      "cell_type": "code",
      "execution_count": 21,
      "metadata": {
        "id": "_Zn6UPo8tHUF"
      },
      "outputs": [],
      "source": [
        "class BankAccount:\n",
        "  def __init__(self,norek=\"\",saldo=0):\n",
        "    self.norek=norek\n",
        "    self.saldo=saldo\n",
        "\n",
        "  def transfer(self,amount):\n",
        "    if amount > self.saldo:\n",
        "      raise ValueError(f\"Saldo tidak mencukupi..!({self.saldo:,})\")\n",
        "\n",
        "    self.saldo -=amount"
      ]
    },
    {
      "cell_type": "code",
      "source": [
        "bca1=BankAccount(\"12345\",2000000)\n",
        "print(f\"Saldo anda adalah {bca1.saldo:,.2f}\")\n",
        "\n",
        "try:\n",
        "  bca1.transfer(1000000)\n",
        "  print(f\"Saldo anda adalah {bca1.saldo:,.2f}\")\n",
        "except ValueError as e:\n",
        "  print(e)\n",
        "\n"
      ],
      "metadata": {
        "colab": {
          "base_uri": "https://localhost:8080/"
        },
        "id": "5otI7q5otuh3",
        "outputId": "e7108df8-c130-4d94-d917-b66b58607cf6"
      },
      "execution_count": 24,
      "outputs": [
        {
          "output_type": "stream",
          "name": "stdout",
          "text": [
            "Saldo anda adalah 2,000,000.00\n",
            "Saldo anda adalah 1,000,000.00\n"
          ]
        }
      ]
    },
    {
      "cell_type": "code",
      "source": [
        "class BalanceNotEnough(Exception):\n",
        "  def __init__(self,message):\n",
        "    self.message=message\n",
        "\n",
        "  def __str__(self):\n",
        "    return self.message"
      ],
      "metadata": {
        "id": "w3tMTHx9zhVQ"
      },
      "execution_count": 26,
      "outputs": []
    },
    {
      "cell_type": "code",
      "execution_count": 27,
      "metadata": {
        "id": "mhu8kTeIz38B"
      },
      "outputs": [],
      "source": [
        "class BankAccount:\n",
        "  def __init__(self,norek=\"\",saldo=0):\n",
        "    self.norek=norek\n",
        "    self.saldo=saldo\n",
        "\n",
        "  def transfer(self,amount):\n",
        "    if amount > self.saldo:\n",
        "      raise BalanceNotEnough(f\"Saldo tidak mencukupi..!({self.saldo:,})\")\n",
        "\n",
        "    self.saldo -=amount"
      ]
    },
    {
      "cell_type": "code",
      "source": [
        "bca1=BankAccount(\"12345\",2000000)\n",
        "print(f\"Saldo anda adalah {bca1.saldo:,.2f}\")\n",
        "\n",
        "try:\n",
        "  bca1.transfer(1000000)\n",
        "  print(f\"Saldo anda adalah {bca1.saldo:,.2f}\")\n",
        "except BalanceNotEnough as e:\n",
        "  print(e)\n"
      ],
      "metadata": {
        "colab": {
          "base_uri": "https://localhost:8080/"
        },
        "id": "fNNxAMDT0BAd",
        "outputId": "041c8e0a-7cd4-4d3f-e27e-f2723c2aac7f"
      },
      "execution_count": 28,
      "outputs": [
        {
          "output_type": "stream",
          "name": "stdout",
          "text": [
            "Saldo anda adalah 2,000,000.00\n",
            "Saldo anda adalah 1,000,000.00\n"
          ]
        }
      ]
    }
  ]
}