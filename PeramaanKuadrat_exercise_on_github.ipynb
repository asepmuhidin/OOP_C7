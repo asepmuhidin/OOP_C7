{
  "nbformat": 4,
  "nbformat_minor": 0,
  "metadata": {
    "colab": {
      "provenance": [],
      "authorship_tag": "ABX9TyOkAqIfqTQdcqBtPGB6QyxA",
      "include_colab_link": true
    },
    "kernelspec": {
      "name": "python3",
      "display_name": "Python 3"
    },
    "language_info": {
      "name": "python"
    }
  },
  "cells": [
    {
      "cell_type": "markdown",
      "metadata": {
        "id": "view-in-github",
        "colab_type": "text"
      },
      "source": [
        "<a href=\"https://colab.research.google.com/github/asepmuhidin/OOP_C7/blob/main/PeramaanKuadrat_exercise_on_github.ipynb\" target=\"_parent\"><img src=\"https://colab.research.google.com/assets/colab-badge.svg\" alt=\"Open In Colab\"/></a>"
      ]
    },
    {
      "cell_type": "code",
      "execution_count": 7,
      "metadata": {
        "id": "n7UqrIFks40S"
      },
      "outputs": [],
      "source": [
        "import math\n",
        "\n",
        "class PersamaanKuadrat:\n",
        "  def __init__(self, a,b,c):\n",
        "    self.a=a\n",
        "    self.b=b\n",
        "    self.c=c\n",
        "\n",
        "  def det(self):\n",
        "    return self.b**2-4*self.a*self.c\n",
        "\n",
        "  def X(self):\n",
        "    return (-self.b+math.sqrt(self.det()))/(2*self.a),(-self.b-math.sqrt(self.det()))/(2*self.a)\n"
      ]
    },
    {
      "cell_type": "code",
      "source": [
        "persamaan1=PersamaanKuadrat(1,1,-6)\n"
      ],
      "metadata": {
        "id": "fSVNproutzvI"
      },
      "execution_count": 8,
      "outputs": []
    },
    {
      "cell_type": "code",
      "source": [
        "print(f\"Nilai determinan adalah {persamaan1.det()}\")"
      ],
      "metadata": {
        "colab": {
          "base_uri": "https://localhost:8080/"
        },
        "id": "8mdoXjCuuXa2",
        "outputId": "02c72a51-58c6-4c6a-caa4-1e357d1f94b4"
      },
      "execution_count": 9,
      "outputs": [
        {
          "output_type": "stream",
          "name": "stdout",
          "text": [
            "Nilai determinan adalah 25\n"
          ]
        }
      ]
    },
    {
      "cell_type": "code",
      "source": [
        "persamaan1.X()"
      ],
      "metadata": {
        "colab": {
          "base_uri": "https://localhost:8080/"
        },
        "id": "sWWubUwXunOV",
        "outputId": "2d653109-1a8a-468e-b8c6-fb557147a887"
      },
      "execution_count": 10,
      "outputs": [
        {
          "output_type": "execute_result",
          "data": {
            "text/plain": [
              "(2.0, -3.0)"
            ]
          },
          "metadata": {},
          "execution_count": 10
        }
      ]
    }
  ]
}