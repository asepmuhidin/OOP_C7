{
  "nbformat": 4,
  "nbformat_minor": 0,
  "metadata": {
    "colab": {
      "provenance": [],
      "authorship_tag": "ABX9TyO7XjVE+t7JBXCRiP5kub2w",
      "include_colab_link": true
    },
    "kernelspec": {
      "name": "python3",
      "display_name": "Python 3"
    },
    "language_info": {
      "name": "python"
    }
  },
  "cells": [
    {
      "cell_type": "markdown",
      "metadata": {
        "id": "view-in-github",
        "colab_type": "text"
      },
      "source": [
        "<a href=\"https://colab.research.google.com/github/asepmuhidin/OOP_C7/blob/main/Perkenalan_OOP.ipynb\" target=\"_parent\"><img src=\"https://colab.research.google.com/assets/colab-badge.svg\" alt=\"Open In Colab\"/></a>"
      ]
    },
    {
      "cell_type": "code",
      "execution_count": 1,
      "metadata": {
        "colab": {
          "base_uri": "https://localhost:8080/"
        },
        "id": "dy21oPB6fj-4",
        "outputId": "5ec62338-a2b1-4d9a-9bdb-90016f473351"
      },
      "outputs": [
        {
          "output_type": "stream",
          "name": "stdout",
          "text": [
            "hello\n"
          ]
        }
      ],
      "source": [
        "print(\"hello\")"
      ]
    },
    {
      "cell_type": "code",
      "source": [
        "3+4"
      ],
      "metadata": {
        "colab": {
          "base_uri": "https://localhost:8080/"
        },
        "id": "vjysKBapfmxt",
        "outputId": "68a7dcb7-2605-4cc5-9c8e-1848c8257423"
      },
      "execution_count": 2,
      "outputs": [
        {
          "output_type": "execute_result",
          "data": {
            "text/plain": [
              "7"
            ]
          },
          "metadata": {},
          "execution_count": 2
        }
      ]
    },
    {
      "cell_type": "code",
      "source": [
        "def sayMessage(msg):\n",
        "  print(msg)\n",
        "\n",
        "def sayHello(msg):\n",
        "  return msg"
      ],
      "metadata": {
        "id": "XXGTJNK8fqAS"
      },
      "execution_count": 5,
      "outputs": []
    },
    {
      "cell_type": "code",
      "source": [
        "sayMessage(\"apa kabar\")"
      ],
      "metadata": {
        "colab": {
          "base_uri": "https://localhost:8080/"
        },
        "id": "sycJ5X5XgH0f",
        "outputId": "52a8e5ac-c991-4ff6-94db-d0832f736f91"
      },
      "execution_count": 4,
      "outputs": [
        {
          "output_type": "stream",
          "name": "stdout",
          "text": [
            "apa kabar\n"
          ]
        }
      ]
    },
    {
      "cell_type": "code",
      "source": [
        "hello1=sayHello(\"selamat sore\")\n",
        "hello2=sayHello(\"selamat sore juga\")\n",
        "\n",
        "print(hello1+hello2)"
      ],
      "metadata": {
        "colab": {
          "base_uri": "https://localhost:8080/"
        },
        "id": "kO3pB4RAgM1b",
        "outputId": "151fd9b6-351b-42a2-c2fb-de267846fc3f"
      },
      "execution_count": 7,
      "outputs": [
        {
          "output_type": "stream",
          "name": "stdout",
          "text": [
            "selamat soreselamat sore juga\n"
          ]
        }
      ]
    },
    {
      "cell_type": "code",
      "source": [
        "class Mahasiswa:\n",
        "    def __init__(self, nama, nim, jurusan,absen,tugas,uts,uas):\n",
        "        self.nama = nama\n",
        "        self.nim = nim\n",
        "        self.jurusan = jurusan\n",
        "        self.absen=absen\n",
        "        self.tugas=tugas\n",
        "        self.uts=uts\n",
        "        self.uas=uas\n",
        "\n",
        "    def belajar(self):\n",
        "      print(f\"{self.nama} sedang belajar \")\n",
        "\n",
        "    def nilaiAkhir(self):\n",
        "      return (0.3*self.absen)+(0.1*self.tugas)+(0.3*self.uts)+(0.3*self.uas)\n",
        "\n",
        "    def nilaiHuruf(self):\n",
        "      na=self.nilaiAkhir()\n",
        "      if na >=85:\n",
        "        nh=\"A\"\n",
        "      elif na>=75:\n",
        "        nh=\"B\"\n",
        "      elif na>=55:\n",
        "        nh=\"C\"\n",
        "      elif na>=45:\n",
        "        nh=\"D\"\n",
        "      else:\n",
        "        nh=\"E\"\n",
        "\n",
        "      return nh"
      ],
      "metadata": {
        "id": "M_iRiry5gtoj"
      },
      "execution_count": 32,
      "outputs": []
    },
    {
      "cell_type": "code",
      "source": [
        "mhs1=Mahasiswa(\"Ahmad Baedhowi\",\"001\",\"Teknik Informatika\",100,100,50,50)\n",
        "mhs2=Mahasiswa(\"Ananda Rizky\",\"002\",\"Teknik Industri\",8,100,100,100)"
      ],
      "metadata": {
        "id": "I9Xida-Zicen"
      },
      "execution_count": 33,
      "outputs": []
    },
    {
      "cell_type": "code",
      "source": [
        "mhs2.belajar()"
      ],
      "metadata": {
        "colab": {
          "base_uri": "https://localhost:8080/"
        },
        "id": "Y2SxhPY1iuTs",
        "outputId": "afaf721e-ae33-4c3f-9408-c3ddfff0446d"
      },
      "execution_count": 34,
      "outputs": [
        {
          "output_type": "stream",
          "name": "stdout",
          "text": [
            "Ananda Rizky sedang belajar \n"
          ]
        }
      ]
    },
    {
      "cell_type": "code",
      "source": [
        "print(f\"Helo {mhs1.nama}, kabarnya bagaimana ?\")"
      ],
      "metadata": {
        "colab": {
          "base_uri": "https://localhost:8080/"
        },
        "id": "uDVlO09rj21O",
        "outputId": "c2ee8ff1-c01c-4cc1-a405-32585fa2f469"
      },
      "execution_count": 35,
      "outputs": [
        {
          "output_type": "stream",
          "name": "stdout",
          "text": [
            "Helo Ahmad Baedhowi, kabarnya bagaimana ?\n"
          ]
        }
      ]
    },
    {
      "cell_type": "code",
      "source": [
        "print(f\"Nilai {mhs1.nama} adalah {mhs1.nilaiAkhir()} dengan nilai huruf {mhs1.nilaiHuruf()}\")"
      ],
      "metadata": {
        "colab": {
          "base_uri": "https://localhost:8080/"
        },
        "id": "QeocoHswk6dl",
        "outputId": "ffe222b8-902d-4049-c11e-58b2d643ecff"
      },
      "execution_count": 38,
      "outputs": [
        {
          "output_type": "stream",
          "name": "stdout",
          "text": [
            "Nilai Ahmad Baedhowi adalah 70.0 dengan nilai huruf C\n"
          ]
        }
      ]
    },
    {
      "cell_type": "code",
      "source": [
        "print(f\"Nilai {mhs2.nama} adalah {mhs2.nilaiAkhir()} dengan nilai huruf {mhs2.nilaiHuruf()}\")"
      ],
      "metadata": {
        "colab": {
          "base_uri": "https://localhost:8080/"
        },
        "id": "TS3iS1oDlImS",
        "outputId": "c652798c-e784-4073-ebdb-c5a6b16fb83d"
      },
      "execution_count": 37,
      "outputs": [
        {
          "output_type": "stream",
          "name": "stdout",
          "text": [
            "Nilai Ananda Rizky adalah 72.4 dengan nilai huruf C\n"
          ]
        }
      ]
    }
  ]
}