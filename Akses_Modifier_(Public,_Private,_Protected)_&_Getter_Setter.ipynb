{
  "nbformat": 4,
  "nbformat_minor": 0,
  "metadata": {
    "colab": {
      "provenance": [],
      "authorship_tag": "ABX9TyNpcymGTmTqZ6dRd7Kf5zkc",
      "include_colab_link": true
    },
    "kernelspec": {
      "name": "python3",
      "display_name": "Python 3"
    },
    "language_info": {
      "name": "python"
    }
  },
  "cells": [
    {
      "cell_type": "markdown",
      "metadata": {
        "id": "view-in-github",
        "colab_type": "text"
      },
      "source": [
        "<a href=\"https://colab.research.google.com/github/asepmuhidin/OOP_C7/blob/main/Akses_Modifier_(Public%2C_Private%2C_Protected)_%26_Getter_Setter.ipynb\" target=\"_parent\"><img src=\"https://colab.research.google.com/assets/colab-badge.svg\" alt=\"Open In Colab\"/></a>"
      ]
    },
    {
      "cell_type": "markdown",
      "source": [
        "# Akses Modifier (Public, Private, Protected) & Getter-Setter"
      ],
      "metadata": {
        "id": "cIuOs5pDhqek"
      }
    },
    {
      "cell_type": "code",
      "execution_count": 6,
      "metadata": {
        "colab": {
          "base_uri": "https://localhost:8080/"
        },
        "id": "UOOFVSamhlG2",
        "outputId": "f4023cc5-67df-4f28-bb67-c40215190d10"
      },
      "outputs": [
        {
          "output_type": "stream",
          "name": "stdout",
          "text": [
            "Ardiyan\n",
            "Haloo Ardiyan\n"
          ]
        }
      ],
      "source": [
        "#Public Modifier\n",
        "class Mahasiswa:\n",
        "  def __init__(self,nama):\n",
        "    self.nama=nama\n",
        "\n",
        "  def sayHello(self):\n",
        "    print(f\"Haloo {self.nama}\")\n",
        "\n",
        "m1=Mahasiswa(\"Ardiyan\")\n",
        "print(m1.nama)\n",
        "m1.sayHello()"
      ]
    },
    {
      "cell_type": "code",
      "source": [
        "#Protected Modifier\n",
        "class Mahasiswa:\n",
        "  def __init__(self,nama):\n",
        "    self._nama=nama\n",
        "\n",
        "  def _sayHello(self):\n",
        "    print(f\"Hello {self._nama}\")\n",
        "\n",
        "\n",
        "m1=Mahasiswa(\"Ardiyan\")\n",
        "print(m1._nama)   #Bisa diakses, namun tidak dianjurkan\n",
        "                  #mengakses properti/method yang protected\n",
        "m1._sayHello()"
      ],
      "metadata": {
        "colab": {
          "base_uri": "https://localhost:8080/"
        },
        "id": "LxmyIp-6iAly",
        "outputId": "76f775dc-58ba-48fa-e4f9-7d8058b9a86d"
      },
      "execution_count": 8,
      "outputs": [
        {
          "output_type": "stream",
          "name": "stdout",
          "text": [
            "Ardiyan\n",
            "Hello Ardiyan\n"
          ]
        }
      ]
    },
    {
      "cell_type": "code",
      "source": [
        "#Private Modifier\n",
        "class Mahasiswa:\n",
        "  def __init__(self,nama):\n",
        "    self.__nama=nama\n",
        "\n",
        "  #Method setter\n",
        "  def set_nama(self,value):\n",
        "    self.__nama=value\n",
        "\n",
        "  #Method getter\n",
        "  def get_nama(self):\n",
        "    return self.__nama\n",
        "\n",
        "  def sayHello(self):\n",
        "    print(f\"Haloo {self.__nama}\")\n",
        "\n",
        "m1=Mahasiswa(\"Ardiyan\")\n",
        "print(m1.get_nama())\n",
        "\n",
        "m1.set_nama(\"Arni Yuniarni\")\n",
        "print(m1.get_nama())\n",
        "m1.sayHello()\n"
      ],
      "metadata": {
        "colab": {
          "base_uri": "https://localhost:8080/"
        },
        "id": "InOWmNBSjMDl",
        "outputId": "28b79b70-cb27-4874-9219-a12066b543d7"
      },
      "execution_count": 13,
      "outputs": [
        {
          "output_type": "stream",
          "name": "stdout",
          "text": [
            "Ardiyan\n",
            "Arni Yuniarni\n",
            "Haloo Arni Yuniarni\n"
          ]
        }
      ]
    },
    {
      "cell_type": "code",
      "source": [
        "#Private Modifier\n",
        "class Mahasiswa:\n",
        "  def __init__(self,nama):\n",
        "    self.__nama=nama\n",
        "\n",
        "  @property\n",
        "  def nama(self): #nama properti dijadikan nama method(bisa jg berbeda)\n",
        "    return self.__nama\n",
        "\n",
        "  @nama.setter\n",
        "  def nama(self,value):\n",
        "    self.__nama=value\n",
        "\n",
        "m1=Mahasiswa(\"Ahmad\")\n",
        "m1.nama\n",
        "m1.nama=\"Algiansyah\"\n",
        "m1.nama\n",
        "\n"
      ],
      "metadata": {
        "colab": {
          "base_uri": "https://localhost:8080/",
          "height": 36
        },
        "id": "EsCG-LoQm-WI",
        "outputId": "b2dd5b10-9943-4128-fbb1-54ce3e495f08"
      },
      "execution_count": 23,
      "outputs": [
        {
          "output_type": "execute_result",
          "data": {
            "text/plain": [
              "'Algiansyah'"
            ],
            "application/vnd.google.colaboratory.intrinsic+json": {
              "type": "string"
            }
          },
          "metadata": {},
          "execution_count": 23
        }
      ]
    }
  ]
}