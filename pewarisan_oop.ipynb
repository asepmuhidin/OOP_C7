{
  "nbformat": 4,
  "nbformat_minor": 0,
  "metadata": {
    "colab": {
      "provenance": [],
      "authorship_tag": "ABX9TyP+WwgDHVsXE0YTWi/HTifc",
      "include_colab_link": true
    },
    "kernelspec": {
      "name": "python3",
      "display_name": "Python 3"
    },
    "language_info": {
      "name": "python"
    }
  },
  "cells": [
    {
      "cell_type": "markdown",
      "metadata": {
        "id": "view-in-github",
        "colab_type": "text"
      },
      "source": [
        "<a href=\"https://colab.research.google.com/github/asepmuhidin/OOP_C7/blob/main/pewarisan_oop.ipynb\" target=\"_parent\"><img src=\"https://colab.research.google.com/assets/colab-badge.svg\" alt=\"Open In Colab\"/></a>"
      ]
    },
    {
      "cell_type": "code",
      "execution_count": 19,
      "metadata": {
        "id": "5tDP-ke-ilv7"
      },
      "outputs": [],
      "source": [
        "class Pegawai:\n",
        "  def __init__(self,nama,gaji):\n",
        "    self.nama=nama\n",
        "    self.gaji=gaji\n",
        "    print(\"Ini konstruktor dari kelas pegawai\")\n",
        "\n",
        "  def info(self):\n",
        "    print(f\"Nama {self.nama}, Gaji : {self.gaji}\")\n",
        "\n",
        "  def totalGaji(self):\n",
        "    return self.gaji\n",
        "\n",
        "  def jamLembur(self,jam):\n",
        "    return jam*1.5\n",
        "\n",
        "  def upahLembur(self,jam):\n",
        "    return (1/173)*self.gaji*self.jamLembur(jam)\n",
        "\n"
      ]
    },
    {
      "cell_type": "code",
      "source": [
        "p1=Pegawai(\"Andi\",17300)\n",
        "p1.info()\n",
        "print(f\"Total gaji {p1.nama} adalah {p1.totalGaji()}\")\n",
        "print(f\"Upah lembur selama 4 jam adalah {p1.upahLembur(4)}\")"
      ],
      "metadata": {
        "colab": {
          "base_uri": "https://localhost:8080/"
        },
        "id": "Homce5xDi-y7",
        "outputId": "36cf48bf-3de3-421b-f001-f08fdc7e6f2d"
      },
      "execution_count": 20,
      "outputs": [
        {
          "output_type": "stream",
          "name": "stdout",
          "text": [
            "Ini konstruktor dari kelas pegawai\n",
            "Nama Andi, Gaji : 17300\n",
            "Total gaji Andi adalah 17300\n",
            "Upah lembur selama 4 jam adalah 600.0\n"
          ]
        }
      ]
    },
    {
      "cell_type": "code",
      "source": [
        "class Manajer(Pegawai):\n",
        "  def __init__(self, nama, gaji, tunjangan):\n",
        "    super().__init__(nama, gaji)\n",
        "    self.tunjangan=tunjangan\n",
        "    print(\"Ini dari konstruktor kelas Manajer\")\n",
        "\n",
        "  def info(self):\n",
        "    super().info()\n",
        "    print(f\"Tunjangan : {self.tunjangan}\")\n",
        "\n",
        "  def totalGaji(self):\n",
        "    return super().totalGaji()+self.tunjangan\n",
        "\n",
        "  def upahLembur(self, jam):\n",
        "    if self.jamLembur(jam)>=4:\n",
        "      return 0.2*self.gaji*self.jamLembur(jam)\n",
        "    else:\n",
        "      return 0\n",
        "\n"
      ],
      "metadata": {
        "id": "L_OqjUxbjOmp"
      },
      "execution_count": 34,
      "outputs": []
    },
    {
      "cell_type": "code",
      "source": [
        "m1=Manajer(\"Udin\",5000,1000)\n",
        "m1.info()\n",
        "print(f\"Total gaji {m1.nama} adalah {m1.totalGaji()}\")\n",
        "print(f\"Uang lembur {m1.nama} selama 6 jam adalah {m1.upahLembur(6)}\")"
      ],
      "metadata": {
        "colab": {
          "base_uri": "https://localhost:8080/"
        },
        "id": "sHmzeAFzkCm7",
        "outputId": "766b0212-5087-4643-bae0-872e30b9e6d0"
      },
      "execution_count": 37,
      "outputs": [
        {
          "output_type": "stream",
          "name": "stdout",
          "text": [
            "Ini konstruktor dari kelas pegawai\n",
            "Ini dari konstruktor kelas Manajer\n",
            "Nama Udin, Gaji : 5000\n",
            "Tunjangan : 1000\n",
            "Total gaji Udin adalah 6000\n",
            "Uang lembur Udin selama 6 jam adalah 9000.0\n"
          ]
        }
      ]
    }
  ]
}